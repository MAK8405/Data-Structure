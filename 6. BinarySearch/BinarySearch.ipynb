{
 "cells": [
  {
   "cell_type": "code",
   "execution_count": 2,
   "metadata": {},
   "outputs": [
    {
     "name": "stdout",
     "output_type": "stream",
     "text": [
      "True\n"
     ]
    }
   ],
   "source": [
    "A = [-3, -1, 0 , 1, 4, 7]\n",
    "\n",
    "# Naive O(n) searching\n",
    "if -1 in A:\n",
    "    print(True)"
   ]
  },
  {
   "cell_type": "markdown",
   "metadata": {},
   "source": [
    "# Traditional BinarySearch"
   ]
  },
  {
   "cell_type": "code",
   "execution_count": 3,
   "metadata": {},
   "outputs": [
    {
     "data": {
      "text/plain": [
       "True"
      ]
     },
     "execution_count": 3,
     "metadata": {},
     "output_type": "execute_result"
    }
   ],
   "source": [
    "# Traditional BinarySearch - Looking up if number is in array:\n",
    "# Time: O(logn)\n",
    "# Space: O(1)\n",
    "\n",
    "def BinarySearch(arr, target):\n",
    "\n",
    "    N = len(arr)\n",
    "    L = 0\n",
    "    R = N -1\n",
    "\n",
    "    while L <= R:\n",
    "        M = L + ((R-L) // 2) # M = (L+R) //2\n",
    "        \n",
    "        if arr[M] == target:\n",
    "            return True\n",
    "        elif target < arr[M]:\n",
    "            R = M - 1\n",
    "        else:\n",
    "            L = M + 1\n",
    "    \n",
    "    return False\n",
    "\n",
    "BinarySearch(A, -1)\n",
    "    \n"
   ]
  },
  {
   "cell_type": "markdown",
   "metadata": {},
   "source": [
    "# Condition Based"
   ]
  },
  {
   "cell_type": "code",
   "execution_count": 4,
   "metadata": {},
   "outputs": [
    {
     "data": {
      "text/plain": [
       "4"
      ]
     },
     "execution_count": 4,
     "metadata": {},
     "output_type": "execute_result"
    }
   ],
   "source": [
    "# Condition Based\n",
    "# Time: O(logn), Space: O(1)\n",
    "B = [False, False, False, False, True, True, True]\n",
    "\n",
    "def BinarySearchCondition(arr):\n",
    "    N = len(arr)\n",
    "    L = 0\n",
    "    R = N-1 \n",
    "\n",
    "    while L < R:\n",
    "        M = (L +R) //2\n",
    "\n",
    "        if B[M]:\n",
    "            R = M\n",
    "        else:\n",
    "            L = M + 1\n",
    "        \n",
    "    return L\n",
    "\n",
    "BinarySearchCondition(B)\n"
   ]
  }
 ],
 "metadata": {
  "kernelspec": {
   "display_name": "Python 3",
   "language": "python",
   "name": "python3"
  },
  "language_info": {
   "codemirror_mode": {
    "name": "ipython",
    "version": 3
   },
   "file_extension": ".py",
   "mimetype": "text/x-python",
   "name": "python",
   "nbconvert_exporter": "python",
   "pygments_lexer": "ipython3",
   "version": "3.13.0"
  }
 },
 "nbformat": 4,
 "nbformat_minor": 2
}
