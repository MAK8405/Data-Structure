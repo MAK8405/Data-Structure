{
 "cells": [
  {
   "cell_type": "markdown",
   "metadata": {},
   "source": [
    "# Singly LinkedLists"
   ]
  },
  {
   "cell_type": "code",
   "execution_count": null,
   "metadata": {},
   "outputs": [],
   "source": [
    "# Singly LinkedLists\n",
    "\n",
    "class SinglyNode:\n",
    "\n",
    "    def __init__(self, val, next=None):\n",
    "        self.val = val\n",
    "        self.next = next\n",
    "\n",
    "    def __str__(self):\n",
    "        return str(self.val)"
   ]
  },
  {
   "cell_type": "code",
   "execution_count": 9,
   "metadata": {},
   "outputs": [
    {
     "name": "stdout",
     "output_type": "stream",
     "text": [
      "1\n"
     ]
    }
   ],
   "source": [
    "Head = SinglyNode(1)\n",
    "A = SinglyNode(3)\n",
    "B = SinglyNode(4)\n",
    "C = SinglyNode(7)\n",
    "\n",
    "Head.next = A\n",
    "A.next = B\n",
    "B.next = C\n",
    "\n",
    "print(Head)"
   ]
  },
  {
   "cell_type": "code",
   "execution_count": null,
   "metadata": {},
   "outputs": [
    {
     "name": "stdout",
     "output_type": "stream",
     "text": [
      "1\n",
      "3\n",
      "4\n",
      "7\n"
     ]
    }
   ],
   "source": [
    "# Traverse the list - O(n)\n",
    "# Curr is like a pointer to Head\n",
    "curr = Head\n",
    "\n",
    "while curr:\n",
    "    print(curr)\n",
    "    curr = curr.next"
   ]
  },
  {
   "cell_type": "code",
   "execution_count": null,
   "metadata": {},
   "outputs": [
    {
     "name": "stdout",
     "output_type": "stream",
     "text": [
      "1 -> 3 -> 4 -> 7\n"
     ]
    }
   ],
   "source": [
    "# Display LinkedList - O(n)\n",
    "def display(head):\n",
    "    curr = head\n",
    "    # We create an empty list elements to store the string representations of the values of each node as we traverse the list.\n",
    "    elements = []\n",
    "    while curr:\n",
    "        elements.append(str(curr.val))\n",
    "        curr = curr.next\n",
    "    # join takes all the elements in elements (which are strings) and concatenates them, inserting \" -> \" between each element.\n",
    "    print(\" -> \".join(elements))\n",
    "\n",
    "    #? [\"a\", \"b\", \"c\"] => \"a -> b -> c\" It's whats join does\n",
    "\n",
    "display(Head)"
   ]
  },
  {
   "cell_type": "code",
   "execution_count": 18,
   "metadata": {},
   "outputs": [
    {
     "data": {
      "text/plain": [
       "True"
      ]
     },
     "execution_count": 18,
     "metadata": {},
     "output_type": "execute_result"
    }
   ],
   "source": [
    "# Search for node value - O(n)\n",
    "def search(head, val):\n",
    "    curr = head\n",
    "    while curr:\n",
    "        if val == curr.val:\n",
    "            return True\n",
    "        curr = curr.next\n",
    "    return False\n",
    "\n",
    "search(Head, 7)"
   ]
  },
  {
   "cell_type": "markdown",
   "metadata": {},
   "source": [
    "# Doubly LinkedLists"
   ]
  },
  {
   "cell_type": "code",
   "execution_count": null,
   "metadata": {},
   "outputs": [],
   "source": [
    "# Doubly Linked Lists\n",
    "\n",
    "class DoublyNode:\n",
    "  def __init__(self, val, next=None, prev=None):\n",
    "    self.val = val\n",
    "    self.next = next\n",
    "    self.prev = prev\n",
    "\n",
    "  def __str__(self):\n",
    "    return str(self.val)"
   ]
  },
  {
   "cell_type": "code",
   "execution_count": null,
   "metadata": {},
   "outputs": [
    {
     "name": "stdout",
     "output_type": "stream",
     "text": [
      "1\n"
     ]
    }
   ],
   "source": [
    "head = tail = DoublyNode(1)\n",
    "print(tail)"
   ]
  },
  {
   "cell_type": "code",
   "execution_count": null,
   "metadata": {},
   "outputs": [
    {
     "name": "stdout",
     "output_type": "stream",
     "text": [
      "1\n"
     ]
    }
   ],
   "source": [
    "# Display - O(n)\n",
    "def display(head):\n",
    "  curr = head\n",
    "  elements = []\n",
    "  while curr:\n",
    "    elements.append(str(curr.val))\n",
    "    curr = curr.next\n",
    "  print(\" <-> \".join(elements))\n",
    "\n",
    "display(head)"
   ]
  },
  {
   "cell_type": "code",
   "execution_count": null,
   "metadata": {},
   "outputs": [
    {
     "name": "stdout",
     "output_type": "stream",
     "text": [
      "3 <-> 1\n"
     ]
    }
   ],
   "source": [
    "# Insert at beginning - O(1)\n",
    "def insertAtBeginning(head, tail, val):\n",
    "  new_node = DoublyNode(val, next=head)\n",
    "  head.prev = new_node\n",
    "  return new_node, tail\n",
    "\n",
    "head, tail = insertAtBeginning(head, tail, 3)\n",
    "display(head)"
   ]
  },
  {
   "cell_type": "code",
   "execution_count": null,
   "metadata": {},
   "outputs": [
    {
     "name": "stdout",
     "output_type": "stream",
     "text": [
      "3 <-> 1 <-> 7 <-> 7 <-> 7 <-> 7 <-> 7 <-> 7 <-> 7 <-> 7 <-> 7 <-> 7 <-> 7\n"
     ]
    }
   ],
   "source": [
    "# Insert at end - O(1)\n",
    "def insertAtEnd(head, tail, val):\n",
    "    new_node = DoublyNode(val, prev=tail)\n",
    "    tail.next = new_node\n",
    "    return head, new_node\n",
    "\n",
    "head, tail = insertAtEnd(head, tail, 7)\n",
    "display(head)"
   ]
  }
 ],
 "metadata": {
  "kernelspec": {
   "display_name": "Python 3",
   "language": "python",
   "name": "python3"
  },
  "language_info": {
   "codemirror_mode": {
    "name": "ipython",
    "version": 3
   },
   "file_extension": ".py",
   "mimetype": "text/x-python",
   "name": "python",
   "nbconvert_exporter": "python",
   "pygments_lexer": "ipython3",
   "version": "3.13.0"
  }
 },
 "nbformat": 4,
 "nbformat_minor": 2
}
