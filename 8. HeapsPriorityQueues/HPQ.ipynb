{
 "cells": [
  {
   "cell_type": "markdown",
   "metadata": {},
   "source": [
    "# Heapify"
   ]
  },
  {
   "cell_type": "code",
   "execution_count": null,
   "metadata": {},
   "outputs": [
    {
     "data": {
      "text/plain": [
       "[-4, 0, 1, 3, 2, 5, 10, 8, 12, 9]"
      ]
     },
     "execution_count": 1,
     "metadata": {},
     "output_type": "execute_result"
    }
   ],
   "source": [
    "# Build Min Heap (Heapify)\n",
    "# Time: O(n), Space: O(1) -> if only the array is exist\n",
    "\n",
    "# * This array represents Tree\n",
    "# ? It's unsorted what should we do?\n",
    "A = [-4, 3, 1, 0, 2, 5, 10, 8, 12, 9]\n",
    "\n",
    "# TODO: we will use heapq library to sort it\n",
    "import heapq\n",
    "# * heapify is a function\n",
    "heapq.heapify(A)\n",
    "# * heapq arrange it to a way that represents a heap\n",
    "\n",
    "A"
   ]
  }
 ],
 "metadata": {
  "kernelspec": {
   "display_name": "Python 3",
   "language": "python",
   "name": "python3"
  },
  "language_info": {
   "codemirror_mode": {
    "name": "ipython",
    "version": 3
   },
   "file_extension": ".py",
   "mimetype": "text/x-python",
   "name": "python",
   "nbconvert_exporter": "python",
   "pygments_lexer": "ipython3",
   "version": "3.13.0"
  }
 },
 "nbformat": 4,
 "nbformat_minor": 2
}
